{
 "cells": [
  {
   "cell_type": "code",
   "execution_count": 128,
   "metadata": {},
   "outputs": [],
   "source": [
    "import glob\n",
    "import json\n",
    "\n",
    "from PIL import Image\n",
    "import xml.etree.ElementTree as elemTree"
   ]
  },
  {
   "cell_type": "code",
   "execution_count": 2,
   "metadata": {},
   "outputs": [],
   "source": [
    "image_list = []\n",
    "for filename in glob.glob('/home/HumanHeadDetection/HollywoodHeads/JPEGImages/*.jpeg'):\n",
    "    im = Image.open(filename)\n",
    "    image_list.append(im)"
   ]
  },
  {
   "cell_type": "code",
   "execution_count": 3,
   "metadata": {
    "scrolled": true
   },
   "outputs": [
    {
     "data": {
      "text/plain": [
       "224740"
      ]
     },
     "execution_count": 3,
     "metadata": {},
     "output_type": "execute_result"
    }
   ],
   "source": [
    "len(image_list)"
   ]
  },
  {
   "cell_type": "code",
   "execution_count": 19,
   "metadata": {},
   "outputs": [],
   "source": [
    "import os\n",
    "target_dir = '/home/HumanHeadDetection/HollywoodHeads/yolov3/PyTorch-YOLOv3/data/custom/images'"
   ]
  },
  {
   "cell_type": "code",
   "execution_count": 23,
   "metadata": {},
   "outputs": [],
   "source": [
    "for filename in glob.glob(target_dir + '/*.jpeg'):\n",
    "    os.rename(filename, filename.replace('.jpeg', '.jpg'))"
   ]
  },
  {
   "cell_type": "code",
   "execution_count": 132,
   "metadata": {},
   "outputs": [],
   "source": [
    "image_list = []\n",
    "data_path = \"/home/HumanHeadDetection/HollywoodHeads/yolov3/PyTorch-YOLOv3/data/custom/\"\n",
    "train_target = data_path + 'train.txt'\n",
    "valid_target = data_path + 'valid.txt'\n",
    "\n",
    "img_count = 0\n",
    "with open(train_target, \"wt\") as train_file:\n",
    "    with open(valid_target, \"wt\") as valid_file:\n",
    "        file = train_file\n",
    "        for filename in glob.glob(data_path + 'images/*.jpg'):\n",
    "            file.write(filename)\n",
    "            file.write(\"\\n\")\n",
    "            img_count += 1\n",
    "            if img_count == 80000:\n",
    "                file = valid_file\n",
    "                train_file.close()\n",
    "            if img_count == 90000:\n",
    "                break"
   ]
  },
  {
   "cell_type": "code",
   "execution_count": 13,
   "metadata": {},
   "outputs": [
    {
     "ename": "ValueError",
     "evalue": "I/O operation on closed file.",
     "output_type": "error",
     "traceback": [
      "\u001b[0;31m---------------------------------------------------------------------------\u001b[0m",
      "\u001b[0;31mValueError\u001b[0m                                Traceback (most recent call last)",
      "\u001b[0;32m<ipython-input-13-f3fc120c03c1>\u001b[0m in \u001b[0;36m<module>\u001b[0;34m\u001b[0m\n\u001b[0;32m----> 1\u001b[0;31m \u001b[0mfile\u001b[0m\u001b[0;34m.\u001b[0m\u001b[0mread\u001b[0m\u001b[0;34m(\u001b[0m\u001b[0;34m)\u001b[0m\u001b[0;34m\u001b[0m\u001b[0;34m\u001b[0m\u001b[0m\n\u001b[0m",
      "\u001b[0;31mValueError\u001b[0m: I/O operation on closed file."
     ]
    }
   ],
   "source": []
  },
  {
   "cell_type": "code",
   "execution_count": null,
   "metadata": {},
   "outputs": [],
   "source": [
    "target = '/home/HumanHeadDetection/HollywoodHeads/yolov3/annotations.txt'"
   ]
  },
  {
   "cell_type": "code",
   "execution_count": 73,
   "metadata": {},
   "outputs": [],
   "source": [
    "tree = parse(\"/home/HumanHeadDetection/HollywoodHeads/Annotations/mov_003_153743.xml\")"
   ]
  },
  {
   "cell_type": "code",
   "execution_count": 127,
   "metadata": {},
   "outputs": [],
   "source": [
    "for filename in glob.glob('/home/HumanHeadDetection/HollywoodHeads/Annotations/*.xml'):\n",
    "    tree = parse(filename)\n",
    "    root = tree.getroot()\n",
    "\n",
    "    img_size = root.find(\"size\")\n",
    "\n",
    "    img_width = float(img_size.find(\"width\").text)\n",
    "    img_height = float(img_size.find(\"height\").text)\n",
    "\n",
    "    object_list = root.findall('object')\n",
    "    \n",
    "#     if len(object_list) == 0:\n",
    "#         continue\n",
    "    \n",
    "    for object_root in object_list:\n",
    "        if object_root.text == '\\n\\t':\n",
    "            continue\n",
    "        box = object_root.find(\"bndbox\")\n",
    "        x_mean = (float(box.find(\"xmin\").text) + float(box.find(\"xmax\").text)) / 2\n",
    "        y_mean = (float(box.find(\"ymin\").text) + float(box.find(\"ymax\").text)) / 2\n",
    "        width = float(box.find(\"xmax\").text) - float(box.find(\"xmin\").text)\n",
    "        height = float(box.find(\"ymax\").text) - float(box.find(\"ymin\").text)\n",
    "\n",
    "        x_mean /= img_width\n",
    "        width /= img_width\n",
    "\n",
    "        y_mean /= img_height\n",
    "        height /= img_height\n",
    "\n",
    "        with open(annotation_target + filename.replace(root_dir, \"\").replace('.xml', '.txt'), 'wt') as file:\n",
    "            file.write('0 '+ str(x_mean) + \" \" + str(y_mean) + \" \" + str(width) + \" \" + str(height))\n",
    "            file.close()\n"
   ]
  },
  {
   "cell_type": "code",
   "execution_count": 11,
   "metadata": {},
   "outputs": [
    {
     "ename": "NameError",
     "evalue": "name 'parse' is not defined",
     "output_type": "error",
     "traceback": [
      "\u001b[0;31m---------------------------------------------------------------------------\u001b[0m",
      "\u001b[0;31mNameError\u001b[0m                                 Traceback (most recent call last)",
      "\u001b[0;32m<ipython-input-11-d1984eddd81c>\u001b[0m in \u001b[0;36m<module>\u001b[0;34m\u001b[0m\n\u001b[1;32m      3\u001b[0m \u001b[0;34m\u001b[0m\u001b[0m\n\u001b[1;32m      4\u001b[0m \u001b[0mfile_name\u001b[0m \u001b[0;34m=\u001b[0m \u001b[0;34m\"/home/HumanHeadDetection/HollywoodHeads/Annotations/mov_003_153743.xml\"\u001b[0m\u001b[0;34m\u001b[0m\u001b[0;34m\u001b[0m\u001b[0m\n\u001b[0;32m----> 5\u001b[0;31m \u001b[0mtree\u001b[0m \u001b[0;34m=\u001b[0m \u001b[0mparse\u001b[0m\u001b[0;34m(\u001b[0m\u001b[0;34m\"/home/HumanHeadDetection/HollywoodHeads/Annotations/mov_003_153743.xml\"\u001b[0m\u001b[0;34m)\u001b[0m\u001b[0;34m\u001b[0m\u001b[0;34m\u001b[0m\u001b[0m\n\u001b[0m\u001b[1;32m      6\u001b[0m \u001b[0mroot\u001b[0m \u001b[0;34m=\u001b[0m \u001b[0mtree\u001b[0m\u001b[0;34m.\u001b[0m\u001b[0mgetroot\u001b[0m\u001b[0;34m(\u001b[0m\u001b[0;34m)\u001b[0m\u001b[0;34m\u001b[0m\u001b[0;34m\u001b[0m\u001b[0m\n\u001b[1;32m      7\u001b[0m \u001b[0;34m\u001b[0m\u001b[0m\n",
      "\u001b[0;31mNameError\u001b[0m: name 'parse' is not defined"
     ]
    }
   ],
   "source": [
    "annotation_target = '/home/HumanHeadDetection/HollywoodHeads/yolov3_annotations/'\n",
    "root_dir = \"/home/HumanHeadDetection/HollywoodHeads/Annotations/\"\n",
    "\n",
    "file_name = \"/home/HumanHeadDetection/HollywoodHeads/Annotations/mov_003_153743.xml\"\n",
    "tree = parse(\"/home/HumanHeadDetection/HollywoodHeads/Annotations/mov_003_153743.xml\")\n",
    "root = tree.getroot()\n",
    "\n",
    "img_size = root.find(\"size\")\n",
    "\n",
    "img_width = float(img_size.find(\"width\").text)\n",
    "img_height = float(img_size.find(\"height\").text)\n",
    "\n",
    "object_list = root.findall('object')\n",
    "\n",
    "for object_root in object_list:\n",
    "    box = object_root.find(\"bndbox\")\n",
    "    x_mean = (float(box.find(\"xmin\").text) + float(box.find(\"xmax\").text)) / 2\n",
    "    y_mean = (int(box.find(\"ymin\").text) + float(box.find(\"ymax\").text)) / 2\n",
    "    width = float(box.find(\"xmax\").text) - float(box.find(\"xmin\").text)\n",
    "    height = float(box.find(\"ymax\").text) - float(box.find(\"ymin\").text)\n",
    "    \n",
    "    x_mean /= img_width\n",
    "    width /= img_width\n",
    "    \n",
    "    y_mean /= img_height\n",
    "    height /= img_height\n",
    "    \n",
    "    with open(annotation_target + filename.replace(root_dir, \"\").replace('.xml', '.txt'), 'wt') as file:\n",
    "        file.write('0 '+ str(x_mean) + \" \" + str(y_mean) + \" \" + str(width) + \" \" + str(height))\n",
    "        file.close()"
   ]
  }
 ],
 "metadata": {
  "kernelspec": {
   "display_name": "Python 3",
   "language": "python",
   "name": "python3"
  },
  "language_info": {
   "codemirror_mode": {
    "name": "ipython",
    "version": 3
   },
   "file_extension": ".py",
   "mimetype": "text/x-python",
   "name": "python",
   "nbconvert_exporter": "python",
   "pygments_lexer": "ipython3",
   "version": "3.6.9"
  }
 },
 "nbformat": 4,
 "nbformat_minor": 4
}
